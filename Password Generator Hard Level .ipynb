{
 "cells": [
  {
   "cell_type": "code",
   "execution_count": 1,
   "id": "d6bf837e-5f72-412d-abd0-544920b08f96",
   "metadata": {},
   "outputs": [
    {
     "name": "stdout",
     "output_type": "stream",
     "text": [
      "welcome to password generator\n"
     ]
    },
    {
     "name": "stdin",
     "output_type": "stream",
     "text": [
      "how many letters would like in your password?\n",
      " 8\n",
      "how many symbols would like\n",
      " 3\n",
      "how many numbers would like \n",
      " 3\n"
     ]
    },
    {
     "name": "stdout",
     "output_type": "stream",
     "text": [
      "your password is: ImYyzIJV)*+473\n"
     ]
    }
   ],
   "source": [
    "import random\n",
    "letters = ['a', 'b', 'c', 'd', 'e', 'f', 'g', 'h', 'i', 'j', 'k', 'l', 'm', 'n', 'o', 'p', 'q', 'r', 's', 't', 'u', 'v', 'w', 'x', 'y', 'z', 'A', 'B', 'C', 'D', 'E', 'F', 'G', 'H', 'I', 'J', 'K', 'L', 'M', 'N', 'O', 'P', 'Q', 'R', 'S', 'T', 'U', 'V', 'W', 'X', 'Y', 'Z']\n",
    "numbers = ['0', '1', '2', '3', '4', '5', '6', '7', '8', '9']\n",
    "symbols = ['!', '#', '$', '%', '&', '(', ')', '*', '+']\n",
    "print('welcome to password generator')\n",
    "n_letters = int(input(\"how many letters would like in your password?\\n\"))\n",
    "n_symbols = int(input(\"how many symbols would like\\n\"))\n",
    "n_numbers = int(input(\"how many numbers would like \\n\"))\n",
    "\n",
    "password = \"\"\n",
    "for char in range(1, n_letters+1):\n",
    "    password += random.choice(letters)\n",
    "for char in range(1,n_symbols+1):\n",
    "    password += random.choice(symbols)\n",
    "for char in range(1,n_numbers+1):\n",
    "    password += random.choice(numbers)\n",
    "print(f'your password is: {password}')"
   ]
  },
  {
   "cell_type": "code",
   "execution_count": null,
   "id": "9ad8d718-44b2-4589-ab15-e43182455ef7",
   "metadata": {},
   "outputs": [],
   "source": []
  }
 ],
 "metadata": {
  "kernelspec": {
   "display_name": "Python 3 (ipykernel)",
   "language": "python",
   "name": "python3"
  },
  "language_info": {
   "codemirror_mode": {
    "name": "ipython",
    "version": 3
   },
   "file_extension": ".py",
   "mimetype": "text/x-python",
   "name": "python",
   "nbconvert_exporter": "python",
   "pygments_lexer": "ipython3",
   "version": "3.12.4"
  }
 },
 "nbformat": 4,
 "nbformat_minor": 5
}

{
 "cells": [
  {
   "cell_type": "raw",
   "id": "db5ab902-0c01-4c40-87db-ef985658d7e8",
   "metadata": {},
   "source": [
    "The BMI is calculated by dividing a person's weight(in KG)by the square of their height(in M)"
   ]
  },
  {
   "cell_type": "code",
   "execution_count": 10,
   "id": "9ad8d718-44b2-4589-ab15-e43182455ef7",
   "metadata": {},
   "outputs": [
    {
     "name": "stdin",
     "output_type": "stream",
     "text": [
      "Enter the person height 1.72\n",
      "Enter the person weight 75\n"
     ]
    },
    {
     "name": "stdout",
     "output_type": "stream",
     "text": [
      "43.604651162790695\n"
     ]
    }
   ],
   "source": [
    "Height = input(\"Enter the person height\")\n",
    "Weight = input(\"Enter the person weight\")\n",
    "height = float(Height)\n",
    "weight = int(Weight)\n",
    "HEIGHT = (height ** 2)\n",
    "BMI = weight/height\n",
    "BMI = (BMI)\n",
    "print(BMI)"
   ]
  },
  {
   "cell_type": "code",
   "execution_count": null,
   "id": "d2e5d307-d9fa-4704-a048-8c97ce5bd575",
   "metadata": {},
   "outputs": [],
   "source": []
  }
 ],
 "metadata": {
  "kernelspec": {
   "display_name": "Python 3 (ipykernel)",
   "language": "python",
   "name": "python3"
  },
  "language_info": {
   "codemirror_mode": {
    "name": "ipython",
    "version": 3
   },
   "file_extension": ".py",
   "mimetype": "text/x-python",
   "name": "python",
   "nbconvert_exporter": "python",
   "pygments_lexer": "ipython3",
   "version": "3.12.4"
  }
 },
 "nbformat": 4,
 "nbformat_minor": 5
}
